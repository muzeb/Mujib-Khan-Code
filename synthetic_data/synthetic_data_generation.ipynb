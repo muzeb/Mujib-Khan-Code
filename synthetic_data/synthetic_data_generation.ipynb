{
 "cells": [
  {
   "cell_type": "code",
   "execution_count": null,
   "metadata": {},
   "outputs": [
    {
     "name": "stdout",
     "output_type": "stream",
     "text": [
      "C:\\Users\\DELL\\Documents\\new_code\\sample_dataset\\cybersecurity_attacks.csv has been deleted.\n"
     ]
    }
   ],
   "source": [
    "'''import os\n",
    "\n",
    "synthetic_data_generation = r'C:\\Users\\DELL\\Documents\\new_code\\sample_dataset\\cybersecurity_attacks.csv'\n",
    "\n",
    "if os.path.exists(synthetic_data_generation):\n",
    "    if os.path.exists(synthetic_data_generation):\n",
    "        os.remove(synthetic_data_generation)\n",
    "        print(f\"{synthetic_data_generation} has been deleted.\")\n",
    "    else:\n",
    "        print(f\"{synthetic_data_generation} does not exists.\")\n",
    "else:\n",
    "    print(f\"{synthetic_data_generation} does not exists.\")'''"
   ]
  },
  {
   "cell_type": "code",
   "execution_count": null,
   "metadata": {},
   "outputs": [
    {
     "name": "stdout",
     "output_type": "stream",
     "text": [
      "  protocol_types traffic_type pocket_type attack_signature severity_level  \\\n",
      "0            TCP          DNS        Data  Known Pattern A           High   \n",
      "1           ICMP          FTP     Control  Known Pattern A         Medium   \n",
      "2            UDP          DNS     Control  Known Pattern A         Medium   \n",
      "3            TCP          DNS        Data  Known Pattern A         Medium   \n",
      "4           ICMP         HTTP     Control  Known Pattern B           High   \n",
      "\n",
      "  action_takes log_source malware_indicator  alerts_warnings  anamoly_scores  \\\n",
      "0       Logged   Firewall      IoC detected  Alert Triggered              50   \n",
      "1      Blocked   Firewall      IoC detected  Alert Triggered              70   \n",
      "2      Blocked     Server      IoC detected  Alert Triggered               2   \n",
      "3       Logged     Server      IoC detected  Alert Triggered              71   \n",
      "4      Ignored   Firewall      IoC detected  Alert Triggered              28   \n",
      "\n",
      "   packet_length attack_type  \n",
      "0            945   Intrusion  \n",
      "1            613   Intrusion  \n",
      "2            952   Intrusion  \n",
      "3            104        DDoS  \n",
      "4            106   Intrusion  \n"
     ]
    }
   ],
   "source": [
    "'''import pandas as pd\n",
    "import numpy as np\n",
    "import random\n",
    "\n",
    "\n",
    "\n",
    "protocol_types = ['TCP', 'UDP', 'ICMP']\n",
    "traffic_type = ['HTTP', 'DNS', 'FTP']\n",
    "pocket_type = ['Data', 'Control']\n",
    "attack_signature = ['Known Pattern A', 'Known Pattern B']\n",
    "severity_level = ['Low', 'Medium', 'High']\n",
    "action_takes = ['Logged', 'Blocked', 'Ignored']\n",
    "log_source = ['Server', 'Firewall']\n",
    "malware_indicator = ['IoC detected']\n",
    "alerts_warnings = ['Alert Triggered']\n",
    "attack_type = ['Malware', 'DDoS', 'Intrusion']\n",
    "\n",
    "num_rows = 100000\n",
    "\n",
    "\n",
    "def generate_synthetic_row():\n",
    "    return{\n",
    "        'protocol_types': random.choice(protocol_types),\n",
    "        'traffic_type': random.choice(traffic_type),\n",
    "        'pocket_type': random.choice(pocket_type),\n",
    "        'attack_signature': random.choice(attack_signature),\n",
    "        'severity_level': random.choice(severity_level),\n",
    "        'action_takes': random.choice(action_takes),\n",
    "        'log_source': random.choice(log_source),\n",
    "        'malware_indicator': random.choice(malware_indicator),\n",
    "        'alerts_warnings': random.choice(alerts_warnings),\n",
    "        'anamoly_scores': random.randint(0, 100),\n",
    "        'packet_length': random.randint(0, 1500),\n",
    "        'attack_type': random.choice(attack_type)\n",
    "    }\n",
    "\n",
    "\n",
    "synthetic_data = [generate_synthetic_row() for _ in range(num_rows)]\n",
    "\n",
    "df = pd.DataFrame(synthetic_data)\n",
    "\n",
    "print(df.head())\n",
    "\n",
    "df.to_csv(synthetic_data_generation, index=False)'''"
   ]
  },
  {
   "cell_type": "code",
   "execution_count": null,
   "metadata": {},
   "outputs": [],
   "source": []
  }
 ],
 "metadata": {
  "kernelspec": {
   "display_name": "base",
   "language": "python",
   "name": "python3"
  },
  "language_info": {
   "codemirror_mode": {
    "name": "ipython",
    "version": 3
   },
   "file_extension": ".py",
   "mimetype": "text/x-python",
   "name": "python",
   "nbconvert_exporter": "python",
   "pygments_lexer": "ipython3",
   "version": "3.12.7"
  }
 },
 "nbformat": 4,
 "nbformat_minor": 2
}
